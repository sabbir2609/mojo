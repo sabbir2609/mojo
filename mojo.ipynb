{
 "cells": [
  {
   "cell_type": "code",
   "execution_count": null,
   "metadata": {},
   "outputs": [],
   "source": [
    "# print something\n",
    "fn main():\n",
    "    print(\"hello world!\")"
   ]
  },
  {
   "cell_type": "code",
   "execution_count": 5,
   "metadata": {},
   "outputs": [
    {
     "name": "stdout",
     "output_type": "stream",
     "text": [
      "5\n"
     ]
    }
   ],
   "source": [
    "# declare a variable \n",
    "# let is constant - you can't change it \n",
    "# var is variable\n",
    "\n",
    "fn main():\n",
    "    let x = 5\n",
    "    # if you say x = 6\n",
    "    # x = 6\n",
    "    # error: expression must be mutable in assignment\n",
    "    print(x)\n",
    "\n",
    "\n",
    "main()"
   ]
  },
  {
   "cell_type": "code",
   "execution_count": 6,
   "metadata": {},
   "outputs": [],
   "source": [
    "# using 'var'\n",
    "\n",
    "fn main():\n",
    "    var x = 5\n",
    "    x = 6\n",
    "    print(x)\n",
    "\n",
    "main()"
   ]
  },
  {
   "cell_type": "code",
   "execution_count": 1,
   "metadata": {},
   "outputs": [],
   "source": [
    "# if we use 'alias', it's essentially equivalent of 'let' but for compile time rather than runtime\n",
    "fn main():\n",
    "    alias x = 5\n",
    "    # x = 6\n",
    "    # won't work\n",
    "    print(x)\n",
    "\n",
    "main()"
   ]
  },
  {
   "cell_type": "code",
   "execution_count": null,
   "metadata": {},
   "outputs": [],
   "source": [
    "# data types\n",
    "# string, int, float, bool, uint\n",
    "\n",
    "# string\n",
    "fn main():\n",
    "    let x: String = \"Hello%\"  # you can use alphanumeric symbols\n",
    "    print(x)\n"
   ]
  },
  {
   "cell_type": "code",
   "execution_count": 2,
   "metadata": {},
   "outputs": [],
   "source": [
    "# data types\n",
    "# string, int, float, bool, uint\n",
    "\n",
    "# int\n",
    "fn main():\n",
    "    let x: Int = 555\n",
    "    print(x)\n"
   ]
  },
  {
   "cell_type": "code",
   "execution_count": 5,
   "metadata": {},
   "outputs": [
    {
     "name": "stdout",
     "output_type": "stream",
     "text": [
      "127\n"
     ]
    }
   ],
   "source": [
    "# 'int8' - will occupy 8bit in your memory\n",
    "# 'int8' can only print -128 to 127 , if you assign more that that it'll ovarload the memory and won't print the expected integer\n",
    "fn main():\n",
    "    let x: Int8 = 127\n",
    "    print(x)\n",
    "\n",
    "main()\n",
    "\n",
    "# Other options are 'Int16', 'Int32' and 'Int64'. Play with it.\n",
    "# here're some refarence https://doc.embedded-wizard.de/int-type"
   ]
  },
  {
   "cell_type": "code",
   "execution_count": null,
   "metadata": {},
   "outputs": [],
   "source": []
  }
 ],
 "metadata": {
  "kernelspec": {
   "display_name": "Mojo",
   "language": "mojo",
   "name": "mojo-jupyter-kernel"
  },
  "language_info": {
   "codemirror_mode": {
    "name": "mojo"
   },
   "file_extension": ".mojo",
   "mimetype": "text/x-mojo",
   "name": "mojo"
  },
  "orig_nbformat": 4
 },
 "nbformat": 4,
 "nbformat_minor": 2
}
